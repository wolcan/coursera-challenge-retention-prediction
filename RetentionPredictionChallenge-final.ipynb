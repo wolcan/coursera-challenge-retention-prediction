{
 "cells": [
  {
   "attachments": {
    "COUR_IPO.png": {
     "image/png": "[encoded data removed]"
    }
   },
   "cell_type": "markdown",
   "metadata": {
    "deletable": false,
    "editable": false,
    "nbgrader": {
     "cell_type": "markdown",
     "checksum": "af0dab4bf493ffd94e2a70dabffd2917",
     "grade": false,
     "grade_id": "cell-c8032e643085d4b6",
     "locked": true,
     "schema_version": 3,
     "solution": false,
     "task": false
    }
   },
   "source": [
    "![COUR_IPO.png](attachment:COUR_IPO.png)"
   ]
  },
  {
   "cell_type": "markdown",
   "metadata": {
    "deletable": false,
    "editable": false,
    "nbgrader": {
     "cell_type": "markdown",
     "checksum": "6a90d4b4074329acaac1e7fa91b9b980",
     "grade": false,
     "grade_id": "cell-4bde05ab27ac14e5",
     "locked": true,
     "schema_version": 3,
     "solution": false,
     "task": false
    }
   },
   "source": [
    "# Welcome to Challenge Labs!"
   ]
  },
  {
   "cell_type": "markdown",
   "metadata": {
    "deletable": false,
    "editable": false,
    "nbgrader": {
     "cell_type": "markdown",
     "checksum": "3593976de03b80e5a2b5c26c55a91803",
     "grade": false,
     "grade_id": "cell-b9f749e4cd16dd21",
     "locked": true,
     "schema_version": 3,
     "solution": false,
     "task": false
    }
   },
   "source": [
    "Challenge labs provide CS & DS Coding Competitions with Prizes that Change Learners’ Lives!\n",
    "\n",
    "CS & DS learners want to be challenged as a way to evaluate if they’re job ready. So, why not create fun challenges and give winners something truly life changing like job interviews at real companies."
   ]
  },
  {
   "cell_type": "markdown",
   "metadata": {
    "deletable": false,
    "editable": false,
    "nbgrader": {
     "cell_type": "markdown",
     "checksum": "cce61eed273968fe449ecc3011bc8490",
     "grade": false,
     "grade_id": "cell-4776224638b5033e",
     "locked": true,
     "schema_version": 3,
     "solution": false,
     "task": false
    }
   },
   "source": [
    "## Introduction"
   ]
  },
  {
   "cell_type": "markdown",
   "metadata": {
    "deletable": false,
    "editable": false,
    "nbgrader": {
     "cell_type": "markdown",
     "checksum": "0564ef8029a9f0555d3c31c5e1ce9703",
     "grade": false,
     "grade_id": "cell-33f440a751a3ce26",
     "locked": true,
     "schema_version": 3,
     "solution": false,
     "task": false
    }
   },
   "source": [
    "In this challenge, you'll get the opportunity to tackle one of the most industry-relevant maching learning problems with a unique dataset that will put your modeling skills to the test. Subscription services are leveraged by companies across many industries, from fitness to video streaming to retail. One of the primary objectives of companies with subscription services is to decrease churn and ensure that users are retained as subscribers. In order to do this efficiently and systematically, many companies employ machine learning to predict which users are at the highest risk of churn, so that proper interventions can be effectively deployed to the right audience.\n",
    "\n",
    "In this challenge, we will be tackling the retention prediction problem on a very unique and interesting group of subscribers, Coursera learners! On Coursera, learners can subscribe to sets of courses in order to gain full access to graded assignments, hands-on projects, and course completion certificates. One of the most common ways that learners subscribe to content is via [Specialization Subscriptions](https://www.coursera.support/s/article/216348103-Coursera-subscriptions?language=en_US#specialization), which give learners unlimited access to the courses in a specific specialization on a month-to-month basis.\n",
    "\n",
    "Imagine that you are a new data scientist at Coursera and you are tasked with building a model that can predict which existing specialization subscribers will continue their subscriptions for another month. We have provided a dataset that is a sample of subscriptions that were initiated in 2021, all snapshotted at a particular date before the subscription was cancelled. Subscription cancellation can happen for a multitude of reasons, including:\n",
    "* the learner completes the specialization or reaches their learning goal and no longer needs the subscription\n",
    "* the learner finds themselves to be too busy and cancels their subscription until a later time\n",
    "* the learner determines that the specialization is not the best fit for their learning goals, so they cancel and look for something better suited\n",
    "\n",
    "Regardless the reason, Coursera has a vested interest in understanding the likelihood of each individual learner to retain in their subscription so that resources can be allocated appropriately to support learners across the various stages of their learning journeys. In this challenge, you will use your machine learning toolkit to do just that!"
   ]
  },
  {
   "cell_type": "markdown",
   "metadata": {
    "deletable": false,
    "editable": false,
    "nbgrader": {
     "cell_type": "markdown",
     "checksum": "87469a362d507970e7455ca80365acc7",
     "grade": false,
     "grade_id": "cell-d0659a425f85c8d9",
     "locked": true,
     "schema_version": 3,
     "solution": false,
     "task": false
    }
   },
   "source": [
    "## Understanding the Datasets"
   ]
  },
  {
   "cell_type": "markdown",
   "metadata": {
    "deletable": false,
    "editable": false,
    "nbgrader": {
     "cell_type": "markdown",
     "checksum": "e374f874bdb3b6d37eacf6ee66dc3e1f",
     "grade": false,
     "grade_id": "cell-2267b885b0d27197",
     "locked": true,
     "schema_version": 3,
     "solution": false,
     "task": false
    }
   },
   "source": [
    "### Train vs. Test\n",
    "In this competition, you’ll gain access to two datasets that are samples of past specialization subscriptions that contain information about the learner, the specialization, and the learner's activity in the subscription thus far. One dataset is titled `train.csv` and the other is titled `test.csv`.\n",
    "\n",
    "`train.csv` contains 70% of the overall sample (509,837 subscriptions to be exact) and importantly, will reveal whether or not the subscription was continued into the next month (the “ground truth”).\n",
    "\n",
    "The `test.csv` dataset contains the exact same information about the remaining segment of the overall sample (217,921 subscriptions to be exact), but does not disclose the “ground truth” for each subscription. It’s your job to predict this outcome!\n",
    "\n",
    "Using the patterns you find in the `train.csv` data, predict whether the subscriptions in `test.csv` will be continued for another month, or not."
   ]
  },
  {
   "cell_type": "markdown",
   "metadata": {
    "deletable": false,
    "editable": false,
    "nbgrader": {
     "cell_type": "markdown",
     "checksum": "fb53da2c25183274e25e8e8505a50594",
     "grade": false,
     "grade_id": "cell-fb82d30972bbe619",
     "locked": true,
     "schema_version": 3,
     "solution": false,
     "task": false
    }
   },
   "source": [
    "### Dataset descriptions\n",
    "Both `train.csv` and `test.csv` contain one row for each unique specialization subscription. For each subscription, a single observation (`subscription_id`) is included as of a particular date (`observation_dt`) during which the subscription was active. This date was chosen at random from all the dates during which the subscription was active. In some instances it is soon after the subscription was initiated; in other instances, it is several months after the subscription was initiated and after several previous payments were made. Therefore, your model will have to be able to adapt to different stages of the subscription.\n",
    "\n",
    "In addition to those identifier columns, the `train.csv` dataset also contains the target label for the task, a binary column `is_retained`.\n",
    "\n",
    "Besides that column, both datasets have an identical set of features that can be used to train your model to make predictions. Below you can see descriptions of each feature. Familiarize yourself with them so that you can harness them most effectively for this machine learning task!"
   ]
  },
  {
   "cell_type": "code",
   "execution_count": 1,
   "metadata": {},
   "outputs": [
    {
     "data": {
      "text/html": [
       "<div>\n",
       "<style scoped>\n",
       "    .dataframe tbody tr th:only-of-type {\n",
       "        vertical-align: middle;\n",
       "    }\n",
       "\n",
       "    .dataframe tbody tr th {\n",
       "        vertical-align: top;\n",
       "    }\n",
       "\n",
       "    .dataframe thead th {\n",
       "        text-align: right;\n",
       "    }\n",
       "</style>\n",
       "<table border=\"1\" class=\"dataframe\">\n",
       "  <thead>\n",
       "    <tr style=\"text-align: right;\">\n",
       "      <th></th>\n",
       "      <th>Column_name</th>\n",
       "      <th>Column_type</th>\n",
       "      <th>Data_type</th>\n",
       "      <th>Description</th>\n",
       "    </tr>\n",
       "  </thead>\n",
       "  <tbody>\n",
       "    <tr>\n",
       "      <th>0</th>\n",
       "      <td>subscription_id</td>\n",
       "      <td>Identifier</td>\n",
       "      <td>character</td>\n",
       "      <td>Unique identifier of each subscription</td>\n",
       "    </tr>\n",
       "    <tr>\n",
       "      <th>1</th>\n",
       "      <td>observation_dt</td>\n",
       "      <td>Identifier</td>\n",
       "      <td>date</td>\n",
       "      <td>The date on which the subscription was observed to calculate the features in the dataset. It was chosen at random amongst all the dates between the start of the subscription and the end of the subscription (before cancellation)</td>\n",
       "    </tr>\n",
       "    <tr>\n",
       "      <th>2</th>\n",
       "      <td>is_retained</td>\n",
       "      <td>Target</td>\n",
       "      <td>Integer</td>\n",
       "      <td>TRAINING SET ONLY! 0 = the learner cancelled their subscription before next payment, 1 = the learner made an additional payment in this subscription</td>\n",
       "    </tr>\n",
       "    <tr>\n",
       "      <th>3</th>\n",
       "      <td>specialization_id</td>\n",
       "      <td>Feature - Specialization Info</td>\n",
       "      <td>character</td>\n",
       "      <td>Unique identifier of a specialization (each subscription gives a learner access to a particular specialization)</td>\n",
       "    </tr>\n",
       "    <tr>\n",
       "      <th>4</th>\n",
       "      <td>cnt_courses_in_specialization</td>\n",
       "      <td>Feature - Specialization Info</td>\n",
       "      <td>integer</td>\n",
       "      <td>number of courses in the specialization</td>\n",
       "    </tr>\n",
       "    <tr>\n",
       "      <th>5</th>\n",
       "      <td>specialization_domain</td>\n",
       "      <td>Feature - Specialization Info</td>\n",
       "      <td>character</td>\n",
       "      <td>primary domain of the specialization (Computer Science, Data Science, etc.)</td>\n",
       "    </tr>\n",
       "    <tr>\n",
       "      <th>6</th>\n",
       "      <td>is_professional_certificate</td>\n",
       "      <td>Feature - Specialization Info</td>\n",
       "      <td>boolean</td>\n",
       "      <td>BOOLEAN for whether the specialization is a \"professional certicate\" (a special type of specialization that awards completers with an industry-sponsored credential)</td>\n",
       "    </tr>\n",
       "    <tr>\n",
       "      <th>7</th>\n",
       "      <td>is_gateway_certificate</td>\n",
       "      <td>Feature - Specialization Info</td>\n",
       "      <td>boolean</td>\n",
       "      <td>BOOLEAN for whether the specialization is a \"gateway certificate\" (a special type of specialization geared towards learners starting in a new field)</td>\n",
       "    </tr>\n",
       "    <tr>\n",
       "      <th>8</th>\n",
       "      <td>learner_days_since_registration</td>\n",
       "      <td>Feature - Learner Info</td>\n",
       "      <td>integer</td>\n",
       "      <td>Days from coursera registration date to the date on which the observation is made</td>\n",
       "    </tr>\n",
       "    <tr>\n",
       "      <th>9</th>\n",
       "      <td>learner_country_group</td>\n",
       "      <td>Feature - Learner Info</td>\n",
       "      <td>character</td>\n",
       "      <td>the region of the world that the learner is from (United States, East Asia, etc.)</td>\n",
       "    </tr>\n",
       "    <tr>\n",
       "      <th>10</th>\n",
       "      <td>learner_gender</td>\n",
       "      <td>Feature - Learner Info</td>\n",
       "      <td>character</td>\n",
       "      <td>the reported gender of the learner (if not available, then \"unknown\")</td>\n",
       "    </tr>\n",
       "    <tr>\n",
       "      <th>11</th>\n",
       "      <td>learner_cnt_other_courses_active</td>\n",
       "      <td>Feature - Learner Info</td>\n",
       "      <td>integer</td>\n",
       "      <td>Other courses (not in this specialization) in which the learner was active prior to observation_dt</td>\n",
       "    </tr>\n",
       "    <tr>\n",
       "      <th>12</th>\n",
       "      <td>learner_cnt_other_courses_paid_active</td>\n",
       "      <td>Feature - Learner Info</td>\n",
       "      <td>integer</td>\n",
       "      <td>Other courses (not in this specialization) in which the learner was active prior to observation_dt and was a paid enrollee</td>\n",
       "    </tr>\n",
       "    <tr>\n",
       "      <th>13</th>\n",
       "      <td>learner_cnt_other_courses_items_completed</td>\n",
       "      <td>Feature - Learner Info</td>\n",
       "      <td>integer</td>\n",
       "      <td>Items completed in other courses (not in this specialization) prior to the observation_dt</td>\n",
       "    </tr>\n",
       "    <tr>\n",
       "      <th>14</th>\n",
       "      <td>learner_cnt_other_courses_paid_items_completed</td>\n",
       "      <td>Feature - Learner Info</td>\n",
       "      <td>integer</td>\n",
       "      <td>Items completed in other courses (not in this specialization) prior to the observation_dt, where the learner was a paid enrollee</td>\n",
       "    </tr>\n",
       "    <tr>\n",
       "      <th>15</th>\n",
       "      <td>learner_cnt_other_transactions_past</td>\n",
       "      <td>Feature - Learner Info</td>\n",
       "      <td>integer</td>\n",
       "      <td>Other payments that the learner made on Coursera separate from this subscription</td>\n",
       "    </tr>\n",
       "    <tr>\n",
       "      <th>16</th>\n",
       "      <td>learner_other_revenue</td>\n",
       "      <td>Feature - Learner Info</td>\n",
       "      <td>numeric</td>\n",
       "      <td>US Dollar estimate of other payments that the learner made on Coursera separate from this subscription</td>\n",
       "    </tr>\n",
       "    <tr>\n",
       "      <th>17</th>\n",
       "      <td>subscription_period_order</td>\n",
       "      <td>Feature - Subscription Status</td>\n",
       "      <td>integer</td>\n",
       "      <td>An index of the \"month\" of the subcription; 1 = first month of payment, 2 = second month of payment</td>\n",
       "    </tr>\n",
       "    <tr>\n",
       "      <th>18</th>\n",
       "      <td>days_since_last_payment</td>\n",
       "      <td>Feature - Subscription Status</td>\n",
       "      <td>integer</td>\n",
       "      <td>Days since the last payment in the subscription</td>\n",
       "    </tr>\n",
       "    <tr>\n",
       "      <th>19</th>\n",
       "      <td>days_til_next_payment_due</td>\n",
       "      <td>Feature - Subscription Status</td>\n",
       "      <td>integer</td>\n",
       "      <td>Days until the next payment in the subsciption is due</td>\n",
       "    </tr>\n",
       "    <tr>\n",
       "      <th>20</th>\n",
       "      <td>cnt_enrollments_started_before_payment_period</td>\n",
       "      <td>Feature - Prior Subscription Activity</td>\n",
       "      <td>integer</td>\n",
       "      <td>Courses in the subscription specialization that were enrolled prior to the start of this subscription period</td>\n",
       "    </tr>\n",
       "    <tr>\n",
       "      <th>21</th>\n",
       "      <td>cnt_enrollments_completed_before_payment_period</td>\n",
       "      <td>Feature - Prior Subscription Activity</td>\n",
       "      <td>integer</td>\n",
       "      <td>Courses in the subscription specialization that were completed prior to the start of this subscription period</td>\n",
       "    </tr>\n",
       "    <tr>\n",
       "      <th>22</th>\n",
       "      <td>cnt_enrollments_active_before_payment_period</td>\n",
       "      <td>Feature - Prior Subscription Activity</td>\n",
       "      <td>integer</td>\n",
       "      <td>Courses in the subscription specialization that were active prior to the start of this subscription period</td>\n",
       "    </tr>\n",
       "    <tr>\n",
       "      <th>23</th>\n",
       "      <td>cnt_items_completed_before_payment_period</td>\n",
       "      <td>Feature - Prior Subscription Activity</td>\n",
       "      <td>integer</td>\n",
       "      <td>Items in the subscription specialization that were completed prior to the start of the subscription period</td>\n",
       "    </tr>\n",
       "    <tr>\n",
       "      <th>24</th>\n",
       "      <td>cnt_graded_items_completed_before_payment_period</td>\n",
       "      <td>Feature - Prior Subscription Activity</td>\n",
       "      <td>integer</td>\n",
       "      <td>Graded items (assignments) in the subscription speciallzation that were completed prior to the start of the subscription period</td>\n",
       "    </tr>\n",
       "    <tr>\n",
       "      <th>25</th>\n",
       "      <td>is_subscription_started_with_free_trial</td>\n",
       "      <td>Feature - Prior Subscription Activity</td>\n",
       "      <td>boolean</td>\n",
       "      <td>BOOLEAN for whether or not the subscription started with a free trial (7-day period for the learner to sample the specialization before paying)</td>\n",
       "    </tr>\n",
       "    <tr>\n",
       "      <th>26</th>\n",
       "      <td>cnt_enrollments_started_during_payment_period</td>\n",
       "      <td>Feature - Current Subscription Activity</td>\n",
       "      <td>integer</td>\n",
       "      <td>Courses in the subscription specialization that were enrolled during this subscription period (before observation_dt)</td>\n",
       "    </tr>\n",
       "    <tr>\n",
       "      <th>27</th>\n",
       "      <td>cnt_enrollments_completed_during_payment_period</td>\n",
       "      <td>Feature - Current Subscription Activity</td>\n",
       "      <td>integer</td>\n",
       "      <td>Courses in the subscription specialization that were completed during this subscription period (before observation_dt)</td>\n",
       "    </tr>\n",
       "    <tr>\n",
       "      <th>28</th>\n",
       "      <td>cnt_enrollments_active_during_payment_period</td>\n",
       "      <td>Feature - Current Subscription Activity</td>\n",
       "      <td>integer</td>\n",
       "      <td>Courses in the subscription specialization that were active during this subscription period (before observation_dt)</td>\n",
       "    </tr>\n",
       "    <tr>\n",
       "      <th>29</th>\n",
       "      <td>cnt_items_completed_during_payment_period</td>\n",
       "      <td>Feature - Current Subscription Activity</td>\n",
       "      <td>integer</td>\n",
       "      <td>Items in the subscription specialization that were completed during this subscription period (before observation_dt)</td>\n",
       "    </tr>\n",
       "    <tr>\n",
       "      <th>30</th>\n",
       "      <td>cnt_graded_items_completed_during_payment_period</td>\n",
       "      <td>Feature - Current Subscription Activity</td>\n",
       "      <td>integer</td>\n",
       "      <td>Graded items (assignments) in the subscription speciallzation that were completed during this subscription period (before observation_dt)</td>\n",
       "    </tr>\n",
       "    <tr>\n",
       "      <th>31</th>\n",
       "      <td>is_active_capstone_during_pay_period</td>\n",
       "      <td>Feature - Current Subscription Activity</td>\n",
       "      <td>boolean</td>\n",
       "      <td>BOOLEAN for whether the learner was active in a capstone course during this subscription period. The last course in some specializations is called a \"captone\" course as allows the learner to apply the skills they have learned in the prior courses up to that point.</td>\n",
       "    </tr>\n",
       "    <tr>\n",
       "      <th>32</th>\n",
       "      <td>sum_hours_learning_before_payment_period</td>\n",
       "      <td>Feature - Current Subscription Activity</td>\n",
       "      <td>numeric</td>\n",
       "      <td>Hours spent learning in subscription specialization courses prior to the subscription period</td>\n",
       "    </tr>\n",
       "    <tr>\n",
       "      <th>33</th>\n",
       "      <td>sum_hours_learning_during_payment_period</td>\n",
       "      <td>Feature - Current Subscription Activity</td>\n",
       "      <td>numeric</td>\n",
       "      <td>Hours spent learning in subscription specialization courses during the subscription period (before observation_dt)</td>\n",
       "    </tr>\n",
       "    <tr>\n",
       "      <th>34</th>\n",
       "      <td>cnt_days_active_before_payment_period</td>\n",
       "      <td>Feature - Current Subscription Activity</td>\n",
       "      <td>integer</td>\n",
       "      <td>Days active in the subscription specialization prior to the subscription period</td>\n",
       "    </tr>\n",
       "    <tr>\n",
       "      <th>35</th>\n",
       "      <td>cnt_days_active_during_payment_period</td>\n",
       "      <td>Feature - Current Subscription Activity</td>\n",
       "      <td>integer</td>\n",
       "      <td>Days active thus far in the subscription period (before observation_dt)</td>\n",
       "    </tr>\n",
       "    <tr>\n",
       "      <th>36</th>\n",
       "      <td>cnt_days_since_last_activity</td>\n",
       "      <td>Feature - Current Subscription Activity</td>\n",
       "      <td>integer</td>\n",
       "      <td>Days since the most recent activity date in the subscription (if never active, defaults to the number of days since the start of the subscription)</td>\n",
       "    </tr>\n",
       "  </tbody>\n",
       "</table>\n",
       "</div>"
      ],
      "text/plain": [
       "                                         Column_name  \\\n",
       "0                                    subscription_id   \n",
       "1                                     observation_dt   \n",
       "2                                        is_retained   \n",
       "3                                  specialization_id   \n",
       "4                      cnt_courses_in_specialization   \n",
       "5                              specialization_domain   \n",
       "6                        is_professional_certificate   \n",
       "7                             is_gateway_certificate   \n",
       "8                    learner_days_since_registration   \n",
       "9                              learner_country_group   \n",
       "10                                    learner_gender   \n",
       "11                  learner_cnt_other_courses_active   \n",
       "12             learner_cnt_other_courses_paid_active   \n",
       "13         learner_cnt_other_courses_items_completed   \n",
       "14    learner_cnt_other_courses_paid_items_completed   \n",
       "15               learner_cnt_other_transactions_past   \n",
       "16                             learner_other_revenue   \n",
       "17                         subscription_period_order   \n",
       "18                           days_since_last_payment   \n",
       "19                         days_til_next_payment_due   \n",
       "20     cnt_enrollments_started_before_payment_period   \n",
       "21   cnt_enrollments_completed_before_payment_period   \n",
       "22      cnt_enrollments_active_before_payment_period   \n",
       "23         cnt_items_completed_before_payment_period   \n",
       "24  cnt_graded_items_completed_before_payment_period   \n",
       "25           is_subscription_started_with_free_trial   \n",
       "26     cnt_enrollments_started_during_payment_period   \n",
       "27   cnt_enrollments_completed_during_payment_period   \n",
       "28      cnt_enrollments_active_during_payment_period   \n",
       "29         cnt_items_completed_during_payment_period   \n",
       "30  cnt_graded_items_completed_during_payment_period   \n",
       "31              is_active_capstone_during_pay_period   \n",
       "32          sum_hours_learning_before_payment_period   \n",
       "33          sum_hours_learning_during_payment_period   \n",
       "34             cnt_days_active_before_payment_period   \n",
       "35             cnt_days_active_during_payment_period   \n",
       "36                      cnt_days_since_last_activity   \n",
       "\n",
       "                                Column_type  Data_type  \\\n",
       "0                                Identifier  character   \n",
       "1                                Identifier       date   \n",
       "2                                    Target    Integer   \n",
       "3             Feature - Specialization Info  character   \n",
       "4             Feature - Specialization Info    integer   \n",
       "5             Feature - Specialization Info  character   \n",
       "6             Feature - Specialization Info    boolean   \n",
       "7             Feature - Specialization Info    boolean   \n",
       "8                    Feature - Learner Info    integer   \n",
       "9                    Feature - Learner Info  character   \n",
       "10                   Feature - Learner Info  character   \n",
       "11                   Feature - Learner Info    integer   \n",
       "12                   Feature - Learner Info    integer   \n",
       "13                   Feature - Learner Info    integer   \n",
       "14                   Feature - Learner Info    integer   \n",
       "15                   Feature - Learner Info    integer   \n",
       "16                   Feature - Learner Info    numeric   \n",
       "17            Feature - Subscription Status    integer   \n",
       "18            Feature - Subscription Status    integer   \n",
       "19            Feature - Subscription Status    integer   \n",
       "20    Feature - Prior Subscription Activity    integer   \n",
       "21    Feature - Prior Subscription Activity    integer   \n",
       "22    Feature - Prior Subscription Activity    integer   \n",
       "23    Feature - Prior Subscription Activity    integer   \n",
       "24    Feature - Prior Subscription Activity    integer   \n",
       "25    Feature - Prior Subscription Activity    boolean   \n",
       "26  Feature - Current Subscription Activity    integer   \n",
       "27  Feature - Current Subscription Activity    integer   \n",
       "28  Feature - Current Subscription Activity    integer   \n",
       "29  Feature - Current Subscription Activity    integer   \n",
       "30  Feature - Current Subscription Activity    integer   \n",
       "31  Feature - Current Subscription Activity    boolean   \n",
       "32  Feature - Current Subscription Activity    numeric   \n",
       "33  Feature - Current Subscription Activity    numeric   \n",
       "34  Feature - Current Subscription Activity    integer   \n",
       "35  Feature - Current Subscription Activity    integer   \n",
       "36  Feature - Current Subscription Activity    integer   \n",
       "\n",
       "                                                                                                                                                                                                                                                                 Description  \n",
       "0                                                                                                                                                                                                                                     Unique identifier of each subscription  \n",
       "1                                        The date on which the subscription was observed to calculate the features in the dataset. It was chosen at random amongst all the dates between the start of the subscription and the end of the subscription (before cancellation)  \n",
       "2                                                                                                                       TRAINING SET ONLY! 0 = the learner cancelled their subscription before next payment, 1 = the learner made an additional payment in this subscription  \n",
       "3                                                                                                                                                            Unique identifier of a specialization (each subscription gives a learner access to a particular specialization)  \n",
       "4                                                                                                                                                                                                                                    number of courses in the specialization  \n",
       "5                                                                                                                                                                                                primary domain of the specialization (Computer Science, Data Science, etc.)  \n",
       "6                                                                                                       BOOLEAN for whether the specialization is a \"professional certicate\" (a special type of specialization that awards completers with an industry-sponsored credential)  \n",
       "7                                                                                                                       BOOLEAN for whether the specialization is a \"gateway certificate\" (a special type of specialization geared towards learners starting in a new field)  \n",
       "8                                                                                                                                                                                          Days from coursera registration date to the date on which the observation is made  \n",
       "9                                                                                                                                                                                          the region of the world that the learner is from (United States, East Asia, etc.)  \n",
       "10                                                                                                                                                                                                     the reported gender of the learner (if not available, then \"unknown\")  \n",
       "11                                                                                                                                                                        Other courses (not in this specialization) in which the learner was active prior to observation_dt  \n",
       "12                                                                                                                                                Other courses (not in this specialization) in which the learner was active prior to observation_dt and was a paid enrollee  \n",
       "13                                                                                                                                                                                 Items completed in other courses (not in this specialization) prior to the observation_dt  \n",
       "14                                                                                                                                          Items completed in other courses (not in this specialization) prior to the observation_dt, where the learner was a paid enrollee  \n",
       "15                                                                                                                                                                                          Other payments that the learner made on Coursera separate from this subscription  \n",
       "16                                                                                                                                                                    US Dollar estimate of other payments that the learner made on Coursera separate from this subscription  \n",
       "17                                                                                                                                                                       An index of the \"month\" of the subcription; 1 = first month of payment, 2 = second month of payment  \n",
       "18                                                                                                                                                                                                                           Days since the last payment in the subscription  \n",
       "19                                                                                                                                                                                                                     Days until the next payment in the subsciption is due  \n",
       "20                                                                                                                                                              Courses in the subscription specialization that were enrolled prior to the start of this subscription period  \n",
       "21                                                                                                                                                             Courses in the subscription specialization that were completed prior to the start of this subscription period  \n",
       "22                                                                                                                                                                Courses in the subscription specialization that were active prior to the start of this subscription period  \n",
       "23                                                                                                                                                                Items in the subscription specialization that were completed prior to the start of the subscription period  \n",
       "24                                                                                                                                           Graded items (assignments) in the subscription speciallzation that were completed prior to the start of the subscription period  \n",
       "25                                                                                                                           BOOLEAN for whether or not the subscription started with a free trial (7-day period for the learner to sample the specialization before paying)  \n",
       "26                                                                                                                                                     Courses in the subscription specialization that were enrolled during this subscription period (before observation_dt)  \n",
       "27                                                                                                                                                    Courses in the subscription specialization that were completed during this subscription period (before observation_dt)  \n",
       "28                                                                                                                                                       Courses in the subscription specialization that were active during this subscription period (before observation_dt)  \n",
       "29                                                                                                                                                      Items in the subscription specialization that were completed during this subscription period (before observation_dt)  \n",
       "30                                                                                                                                 Graded items (assignments) in the subscription speciallzation that were completed during this subscription period (before observation_dt)  \n",
       "31  BOOLEAN for whether the learner was active in a capstone course during this subscription period. The last course in some specializations is called a \"captone\" course as allows the learner to apply the skills they have learned in the prior courses up to that point.  \n",
       "32                                                                                                                                                                              Hours spent learning in subscription specialization courses prior to the subscription period  \n",
       "33                                                                                                                                                        Hours spent learning in subscription specialization courses during the subscription period (before observation_dt)  \n",
       "34                                                                                                                                                                                           Days active in the subscription specialization prior to the subscription period  \n",
       "35                                                                                                                                                                                                   Days active thus far in the subscription period (before observation_dt)  \n",
       "36                                                                                                                        Days since the most recent activity date in the subscription (if never active, defaults to the number of days since the start of the subscription)  "
      ]
     },
     "execution_count": 1,
     "metadata": {},
     "output_type": "execute_result"
    }
   ],
   "source": [
    "import pandas as pd\n",
    "data_descriptions = pd.read_csv('data_descriptions.csv')\n",
    "pd.set_option('display.max_colwidth', None)\n",
    "data_descriptions"
   ]
  },
  {
   "cell_type": "markdown",
   "metadata": {
    "deletable": false,
    "editable": false,
    "nbgrader": {
     "cell_type": "markdown",
     "checksum": "290554e710ea4a14691f86a042dc3742",
     "grade": false,
     "grade_id": "cell-8df13316a3d127f2",
     "locked": true,
     "schema_version": 3,
     "solution": false,
     "task": false
    }
   },
   "source": [
    "## How to Submit your Predictions to Coursera"
   ]
  },
  {
   "cell_type": "markdown",
   "metadata": {
    "deletable": false,
    "editable": false,
    "nbgrader": {
     "cell_type": "markdown",
     "checksum": "e70ec115a8a40cc92e21868059a7e200",
     "grade": false,
     "grade_id": "cell-4bb6bad6792180bc",
     "locked": true,
     "schema_version": 3,
     "solution": false,
     "task": false
    }
   },
   "source": [
    "Submission Format:\n",
    "\n",
    "In this notebook you should follow the steps below to explore the data, train a model using the data in `train.csv`, and then score your model using the data in `test.csv`. Your final submission should be a dataframe (call it `prediction_df` with two columns and exactly 217,921 rows (plus a header row). The first column should be `subscription_id` so that we know which prediction belongs to which observation. The second column should be called `predicted_probability` and should be a numeric column representing the __likellihood that the subscription is retained__.\n",
    "\n",
    "Your submission will show an error if you have extra columns (beyond `subscription_id` and `predicted_probability`) or extra rows. The order of the rows does not matter.\n",
    "\n",
    "The naming convention of the dataframe and columns are critical for our autograding, so please make sure to use the exact naming conventions of `prediction_df` with column names `subscription_id` and `predicted_probability`!\n",
    "\n",
    "To determine your final score, we will compare your `predicted_probability` predictions to the source of truth labels for the observations in `test.csv` and calculate the [ROC AUC](https://scikit-learn.org/stable/modules/generated/sklearn.metrics.roc_auc_score.html). We choose this metric because we not only want to be able to predict which subscriptions will be retained, but also want a well-calibrated likelihood score that can be used to target interventions and support most accurately."
   ]
  },
  {
   "cell_type": "markdown",
   "metadata": {
    "deletable": false,
    "editable": false,
    "nbgrader": {
     "cell_type": "markdown",
     "checksum": "4db30c254b95fca31a7f099bc6658dd2",
     "grade": false,
     "grade_id": "cell-ac94aa11c2b5afc4",
     "locked": true,
     "schema_version": 3,
     "solution": false,
     "task": false
    }
   },
   "source": [
    "## Import Python Modules"
   ]
  },
  {
   "cell_type": "markdown",
   "metadata": {
    "deletable": false,
    "editable": false,
    "nbgrader": {
     "cell_type": "markdown",
     "checksum": "f8e6d1dfbb79e906d6c0e06487709bcb",
     "grade": false,
     "grade_id": "cell-6fdaf33f1dfb7a4e",
     "locked": true,
     "schema_version": 3,
     "solution": false,
     "task": false
    }
   },
   "source": [
    "First, import the primary modules that will be used in this project. Remember as this is an open-ended project please feel free to make use of any of your favorite libraries that you feel may be useful for this challenge. For example some of the following popular packages may be useful:\n",
    "\n",
    "- pandas\n",
    "- numpy\n",
    "- Scipy\n",
    "- Scikit-learn\n",
    "- keras\n",
    "- maplotlib\n",
    "- seaborn\n",
    "- etc, etc"
   ]
  },
  {
   "cell_type": "code",
   "execution_count": 2,
   "metadata": {},
   "outputs": [],
   "source": [
    "# Import required packages\n",
    "\n",
    "# Data packages\n",
    "import pandas as pd\n",
    "import numpy as np\n",
    "\n",
    "# Machine Learning / Classification packages\n",
    "from sklearn.metrics import roc_auc_score\n",
    "from sklearn.model_selection import train_test_split\n",
    "from sklearn.dummy import DummyClassifier\n",
    "\n",
    "# Visualization Packages\n",
    "from matplotlib import pyplot as plt\n",
    "import seaborn as sns\n",
    "%matplotlib inline"
   ]
  },
  {
   "cell_type": "code",
   "execution_count": 3,
   "metadata": {},
   "outputs": [],
   "source": [
    "# Import any other packages you may want to use\n",
    "from sklearn.preprocessing import LabelEncoder, OneHotEncoder\n",
    "from sklearn.ensemble import RandomForestClassifier\n",
    "from sklearn.ensemble import GradientBoostingClassifier"
   ]
  },
  {
   "cell_type": "markdown",
   "metadata": {
    "deletable": false,
    "editable": false,
    "nbgrader": {
     "cell_type": "markdown",
     "checksum": "fd404259257020eec5cf238d6b7e0716",
     "grade": false,
     "grade_id": "cell-681adc5ef9141365",
     "locked": true,
     "schema_version": 3,
     "solution": false,
     "task": false
    }
   },
   "source": [
    "## Load the Data"
   ]
  },
  {
   "cell_type": "markdown",
   "metadata": {
    "deletable": false,
    "editable": false,
    "nbgrader": {
     "cell_type": "markdown",
     "checksum": "3662946a47dc4b9228926d2c41c2507e",
     "grade": false,
     "grade_id": "cell-f51d64738256f064",
     "locked": true,
     "schema_version": 3,
     "solution": false,
     "task": false
    }
   },
   "source": [
    "Let's start by loading the dataset `train.csv` into a dataframe `train_df`, and `test.csv` into a dataframe `test_df` and display the shape of the dataframes."
   ]
  },
  {
   "cell_type": "code",
   "execution_count": 4,
   "metadata": {},
   "outputs": [
    {
     "data": {
      "text/plain": [
       "(413955, 37)"
      ]
     },
     "execution_count": 4,
     "metadata": {},
     "output_type": "execute_result"
    }
   ],
   "source": [
    "train_df = pd.read_csv(\"data/train.csv\", low_memory=False)\n",
    "train_df.shape"
   ]
  },
  {
   "cell_type": "code",
   "execution_count": 5,
   "metadata": {},
   "outputs": [
    {
     "data": {
      "text/plain": [
       "(217921, 36)"
      ]
     },
     "execution_count": 5,
     "metadata": {},
     "output_type": "execute_result"
    }
   ],
   "source": [
    "test_df = pd.read_csv(\"data/test.csv\")\n",
    "test_df.shape"
   ]
  },
  {
   "cell_type": "markdown",
   "metadata": {
    "deletable": false,
    "editable": false,
    "nbgrader": {
     "cell_type": "markdown",
     "checksum": "4baa0e0ae0b43e3e1ba1aafd6502f541",
     "grade": false,
     "grade_id": "cell-845f8ee4c50e9ae1",
     "locked": true,
     "schema_version": 3,
     "solution": false,
     "task": false
    }
   },
   "source": [
    "## Explore, Clean, Validate, and Visualize the Data (optional)\n",
    "\n",
    "Feel free to explore, clean, validate, and visualize the data however you see fit for this competition to help determine or optimize your predictive model. Please note - the final autograding will only be on the accuracy of the `prediction_df` predictions."
   ]
  },
  {
   "cell_type": "code",
   "execution_count": 6,
   "metadata": {},
   "outputs": [
    {
     "data": {
      "text/html": [
       "<div>\n",
       "<style scoped>\n",
       "    .dataframe tbody tr th:only-of-type {\n",
       "        vertical-align: middle;\n",
       "    }\n",
       "\n",
       "    .dataframe tbody tr th {\n",
       "        vertical-align: top;\n",
       "    }\n",
       "\n",
       "    .dataframe thead th {\n",
       "        text-align: right;\n",
       "    }\n",
       "</style>\n",
       "<table border=\"1\" class=\"dataframe\">\n",
       "  <thead>\n",
       "    <tr style=\"text-align: right;\">\n",
       "      <th></th>\n",
       "      <th>subscription_id</th>\n",
       "      <th>observation_dt</th>\n",
       "      <th>is_retained</th>\n",
       "      <th>specialization_id</th>\n",
       "      <th>cnt_courses_in_specialization</th>\n",
       "      <th>specialization_domain</th>\n",
       "      <th>is_professional_certificate</th>\n",
       "      <th>is_gateway_certificate</th>\n",
       "      <th>learner_days_since_registration</th>\n",
       "      <th>learner_country_group</th>\n",
       "      <th>...</th>\n",
       "      <th>cnt_enrollments_completed_during_payment_period</th>\n",
       "      <th>cnt_enrollments_active_during_payment_period</th>\n",
       "      <th>cnt_items_completed_during_payment_period</th>\n",
       "      <th>cnt_graded_items_completed_during_payment_period</th>\n",
       "      <th>is_active_capstone_during_pay_period</th>\n",
       "      <th>sum_hours_learning_before_payment_period</th>\n",
       "      <th>sum_hours_learning_during_payment_period</th>\n",
       "      <th>cnt_days_active_before_payment_period</th>\n",
       "      <th>cnt_days_active_during_payment_period</th>\n",
       "      <th>cnt_days_since_last_activity</th>\n",
       "    </tr>\n",
       "  </thead>\n",
       "  <tbody>\n",
       "    <tr>\n",
       "      <th>0</th>\n",
       "      <td>--rKikbGEeyQHQqIvaM5IQ</td>\n",
       "      <td>2022-05-04</td>\n",
       "      <td>1.0</td>\n",
       "      <td>kr43OcbTEeqeNBKhfgCLyw</td>\n",
       "      <td>8.0</td>\n",
       "      <td>Data Science</td>\n",
       "      <td>True</td>\n",
       "      <td>True</td>\n",
       "      <td>2321.0</td>\n",
       "      <td>Northern Europe</td>\n",
       "      <td>...</td>\n",
       "      <td>0.0</td>\n",
       "      <td>0.0</td>\n",
       "      <td>0.0</td>\n",
       "      <td>0.0</td>\n",
       "      <td>False</td>\n",
       "      <td>73.783333</td>\n",
       "      <td>0.000000</td>\n",
       "      <td>68.0</td>\n",
       "      <td>0.0</td>\n",
       "      <td>20.0</td>\n",
       "    </tr>\n",
       "    <tr>\n",
       "      <th>1</th>\n",
       "      <td>-0XGzEq2EeyimBISGRuNeQ</td>\n",
       "      <td>2021-11-30</td>\n",
       "      <td>0.0</td>\n",
       "      <td>Q0Fc_Yl0EeqdTApgQ4tM7Q</td>\n",
       "      <td>6.0</td>\n",
       "      <td>Data Science</td>\n",
       "      <td>True</td>\n",
       "      <td>False</td>\n",
       "      <td>612.0</td>\n",
       "      <td>Northern Europe</td>\n",
       "      <td>...</td>\n",
       "      <td>0.0</td>\n",
       "      <td>0.0</td>\n",
       "      <td>0.0</td>\n",
       "      <td>0.0</td>\n",
       "      <td>False</td>\n",
       "      <td>0.850000</td>\n",
       "      <td>0.000000</td>\n",
       "      <td>7.0</td>\n",
       "      <td>2.0</td>\n",
       "      <td>0.0</td>\n",
       "    </tr>\n",
       "    <tr>\n",
       "      <th>2</th>\n",
       "      <td>-1P9kOb6EeuRugq1Liq62w</td>\n",
       "      <td>2021-08-13</td>\n",
       "      <td>0.0</td>\n",
       "      <td>9kmimrDIEeqxzQqieMm42w</td>\n",
       "      <td>6.0</td>\n",
       "      <td>Business</td>\n",
       "      <td>True</td>\n",
       "      <td>True</td>\n",
       "      <td>27.0</td>\n",
       "      <td>Australia and New Zealand</td>\n",
       "      <td>...</td>\n",
       "      <td>0.0</td>\n",
       "      <td>1.0</td>\n",
       "      <td>12.0</td>\n",
       "      <td>2.0</td>\n",
       "      <td>False</td>\n",
       "      <td>1.833333</td>\n",
       "      <td>2.983333</td>\n",
       "      <td>2.0</td>\n",
       "      <td>1.0</td>\n",
       "      <td>18.0</td>\n",
       "    </tr>\n",
       "    <tr>\n",
       "      <th>3</th>\n",
       "      <td>-2ifTJZbEeuIuRKpAhovaw</td>\n",
       "      <td>2021-08-03</td>\n",
       "      <td>1.0</td>\n",
       "      <td>7lHCSlFIEeeffRIHljDI_g</td>\n",
       "      <td>5.0</td>\n",
       "      <td>Information Technology</td>\n",
       "      <td>True</td>\n",
       "      <td>True</td>\n",
       "      <td>120.0</td>\n",
       "      <td>United States</td>\n",
       "      <td>...</td>\n",
       "      <td>0.0</td>\n",
       "      <td>2.0</td>\n",
       "      <td>83.0</td>\n",
       "      <td>9.0</td>\n",
       "      <td>False</td>\n",
       "      <td>18.450000</td>\n",
       "      <td>7.100000</td>\n",
       "      <td>18.0</td>\n",
       "      <td>4.0</td>\n",
       "      <td>3.0</td>\n",
       "    </tr>\n",
       "    <tr>\n",
       "      <th>4</th>\n",
       "      <td>-5YKZbchEeufeAq6C_fAOw</td>\n",
       "      <td>2021-06-04</td>\n",
       "      <td>0.0</td>\n",
       "      <td>kr43OcbTEeqeNBKhfgCLyw</td>\n",
       "      <td>8.0</td>\n",
       "      <td>Data Science</td>\n",
       "      <td>True</td>\n",
       "      <td>True</td>\n",
       "      <td>1228.0</td>\n",
       "      <td>India</td>\n",
       "      <td>...</td>\n",
       "      <td>1.0</td>\n",
       "      <td>1.0</td>\n",
       "      <td>61.0</td>\n",
       "      <td>4.0</td>\n",
       "      <td>False</td>\n",
       "      <td>29.566667</td>\n",
       "      <td>15.250000</td>\n",
       "      <td>18.0</td>\n",
       "      <td>8.0</td>\n",
       "      <td>1.0</td>\n",
       "    </tr>\n",
       "  </tbody>\n",
       "</table>\n",
       "<p>5 rows × 37 columns</p>\n",
       "</div>"
      ],
      "text/plain": [
       "          subscription_id observation_dt  is_retained       specialization_id  \\\n",
       "0  --rKikbGEeyQHQqIvaM5IQ     2022-05-04          1.0  kr43OcbTEeqeNBKhfgCLyw   \n",
       "1  -0XGzEq2EeyimBISGRuNeQ     2021-11-30          0.0  Q0Fc_Yl0EeqdTApgQ4tM7Q   \n",
       "2  -1P9kOb6EeuRugq1Liq62w     2021-08-13          0.0  9kmimrDIEeqxzQqieMm42w   \n",
       "3  -2ifTJZbEeuIuRKpAhovaw     2021-08-03          1.0  7lHCSlFIEeeffRIHljDI_g   \n",
       "4  -5YKZbchEeufeAq6C_fAOw     2021-06-04          0.0  kr43OcbTEeqeNBKhfgCLyw   \n",
       "\n",
       "   cnt_courses_in_specialization   specialization_domain  \\\n",
       "0                            8.0            Data Science   \n",
       "1                            6.0            Data Science   \n",
       "2                            6.0                Business   \n",
       "3                            5.0  Information Technology   \n",
       "4                            8.0            Data Science   \n",
       "\n",
       "  is_professional_certificate is_gateway_certificate  \\\n",
       "0                        True                   True   \n",
       "1                        True                  False   \n",
       "2                        True                   True   \n",
       "3                        True                   True   \n",
       "4                        True                   True   \n",
       "\n",
       "   learner_days_since_registration      learner_country_group  ...  \\\n",
       "0                           2321.0            Northern Europe  ...   \n",
       "1                            612.0            Northern Europe  ...   \n",
       "2                             27.0  Australia and New Zealand  ...   \n",
       "3                            120.0              United States  ...   \n",
       "4                           1228.0                      India  ...   \n",
       "\n",
       "  cnt_enrollments_completed_during_payment_period  \\\n",
       "0                                             0.0   \n",
       "1                                             0.0   \n",
       "2                                             0.0   \n",
       "3                                             0.0   \n",
       "4                                             1.0   \n",
       "\n",
       "   cnt_enrollments_active_during_payment_period  \\\n",
       "0                                           0.0   \n",
       "1                                           0.0   \n",
       "2                                           1.0   \n",
       "3                                           2.0   \n",
       "4                                           1.0   \n",
       "\n",
       "   cnt_items_completed_during_payment_period  \\\n",
       "0                                        0.0   \n",
       "1                                        0.0   \n",
       "2                                       12.0   \n",
       "3                                       83.0   \n",
       "4                                       61.0   \n",
       "\n",
       "   cnt_graded_items_completed_during_payment_period  \\\n",
       "0                                               0.0   \n",
       "1                                               0.0   \n",
       "2                                               2.0   \n",
       "3                                               9.0   \n",
       "4                                               4.0   \n",
       "\n",
       "   is_active_capstone_during_pay_period  \\\n",
       "0                                 False   \n",
       "1                                 False   \n",
       "2                                 False   \n",
       "3                                 False   \n",
       "4                                 False   \n",
       "\n",
       "   sum_hours_learning_before_payment_period  \\\n",
       "0                                 73.783333   \n",
       "1                                  0.850000   \n",
       "2                                  1.833333   \n",
       "3                                 18.450000   \n",
       "4                                 29.566667   \n",
       "\n",
       "   sum_hours_learning_during_payment_period  \\\n",
       "0                                  0.000000   \n",
       "1                                  0.000000   \n",
       "2                                  2.983333   \n",
       "3                                  7.100000   \n",
       "4                                 15.250000   \n",
       "\n",
       "   cnt_days_active_before_payment_period  \\\n",
       "0                                   68.0   \n",
       "1                                    7.0   \n",
       "2                                    2.0   \n",
       "3                                   18.0   \n",
       "4                                   18.0   \n",
       "\n",
       "   cnt_days_active_during_payment_period  cnt_days_since_last_activity  \n",
       "0                                    0.0                          20.0  \n",
       "1                                    2.0                           0.0  \n",
       "2                                    1.0                          18.0  \n",
       "3                                    4.0                           3.0  \n",
       "4                                    8.0                           1.0  \n",
       "\n",
       "[5 rows x 37 columns]"
      ]
     },
     "metadata": {},
     "output_type": "display_data"
    },
    {
     "data": {
      "text/plain": [
       "subscription_id                                     0\n",
       "observation_dt                                      0\n",
       "is_retained                                         1\n",
       "specialization_id                                   1\n",
       "cnt_courses_in_specialization                       1\n",
       "specialization_domain                               2\n",
       "is_professional_certificate                         1\n",
       "is_gateway_certificate                              1\n",
       "learner_days_since_registration                     1\n",
       "learner_country_group                               1\n",
       "learner_gender                                      1\n",
       "learner_cnt_other_courses_active                    1\n",
       "learner_cnt_other_courses_paid_active               1\n",
       "learner_cnt_other_courses_items_completed           1\n",
       "learner_cnt_other_courses_paid_items_completed      1\n",
       "learner_cnt_other_transactions_past                 1\n",
       "learner_other_revenue                               1\n",
       "subscription_period_order                           1\n",
       "days_since_last_payment                             1\n",
       "days_til_next_payment_due                           1\n",
       "cnt_enrollments_started_before_payment_period       1\n",
       "cnt_enrollments_completed_before_payment_period     1\n",
       "cnt_enrollments_active_before_payment_period        1\n",
       "cnt_items_completed_before_payment_period           1\n",
       "cnt_graded_items_completed_before_payment_period    1\n",
       "is_subscription_started_with_free_trial             1\n",
       "cnt_enrollments_started_during_payment_period       1\n",
       "cnt_enrollments_completed_during_payment_period     1\n",
       "cnt_enrollments_active_during_payment_period        1\n",
       "cnt_items_completed_during_payment_period           1\n",
       "cnt_graded_items_completed_during_payment_period    1\n",
       "is_active_capstone_during_pay_period                1\n",
       "sum_hours_learning_before_payment_period            1\n",
       "sum_hours_learning_during_payment_period            1\n",
       "cnt_days_active_before_payment_period               1\n",
       "cnt_days_active_during_payment_period               1\n",
       "cnt_days_since_last_activity                        1\n",
       "dtype: int64"
      ]
     },
     "metadata": {},
     "output_type": "display_data"
    }
   ],
   "source": [
    "display(train_df.head())\n",
    "display(train_df.isnull().sum())"
   ]
  },
  {
   "cell_type": "code",
   "execution_count": 7,
   "metadata": {},
   "outputs": [],
   "source": [
    "def concat_df(train_data, test_data):\n",
    "    return pd.concat([train_data, test_data], sort=False).reset_index(drop=True)\n",
    "\n",
    "def divide_df(all_data):\n",
    "    return all_data.loc[:413953], all_data.loc[413954:].drop(['is_retained'], axis=1)\n",
    "\n",
    "# Drop the training data with 'is_retained' = null\n",
    "train_df = train_df.loc[train_df[\"is_retained\"].notnull()]"
   ]
  },
  {
   "cell_type": "code",
   "execution_count": 8,
   "metadata": {},
   "outputs": [],
   "source": [
    "df_all = concat_df(train_df, test_df)"
   ]
  },
  {
   "cell_type": "code",
   "execution_count": 9,
   "metadata": {},
   "outputs": [],
   "source": [
    "# Extract year & month\n",
    "df_all['year'] = df_all['observation_dt'].apply(lambda y: int(y.split('-')[0]))\n",
    "df_all['month'] = df_all['observation_dt'].apply(lambda y: int(y.split('-')[1]))"
   ]
  },
  {
   "cell_type": "code",
   "execution_count": 10,
   "metadata": {},
   "outputs": [],
   "source": [
    "# Fill missing 'specialization_domain' value\n",
    "df_all.loc[(df_all['specialization_id']=='LdUf6lXcEeu1mwqGqLlyWQ') & (df_all['specialization_domain'].isnull()), 'specialization_domain'] = 'Information Technology'\n"
   ]
  },
  {
   "cell_type": "code",
   "execution_count": 11,
   "metadata": {},
   "outputs": [],
   "source": [
    "# display(df_all.isnull().sum())"
   ]
  },
  {
   "cell_type": "code",
   "execution_count": 12,
   "metadata": {},
   "outputs": [],
   "source": [
    "# Encode non-numeric values\n",
    "non_numeric_features = ['learner_gender']\n",
    "for feature in non_numeric_features:\n",
    "    df_all[feature] = LabelEncoder().fit_transform(df_all[feature])\n",
    "    \n",
    "categorical_columns = ['specialization_domain', 'learner_country_group']\n",
    "for col in categorical_columns:\n",
    "    col_ohe = pd.get_dummies(df_all[col], prefix=col)\n",
    "    df_all = pd.concat((df_all, col_ohe), axis=1).drop(col, axis=1)"
   ]
  },
  {
   "cell_type": "code",
   "execution_count": 13,
   "metadata": {},
   "outputs": [],
   "source": [
    "# Split the dataset back to Train / Test\n",
    "c_train_df, c_test_df = divide_df(df_all)"
   ]
  },
  {
   "cell_type": "code",
   "execution_count": 14,
   "metadata": {},
   "outputs": [
    {
     "name": "stdout",
     "output_type": "stream",
     "text": [
      "(413954, 63)\n"
     ]
    }
   ],
   "source": [
    "print(c_train_df.shape)"
   ]
  },
  {
   "cell_type": "markdown",
   "metadata": {
    "deletable": false,
    "editable": false,
    "nbgrader": {
     "cell_type": "markdown",
     "checksum": "25877df7d489a1bc02cd7e2db0bbc7c4",
     "grade": false,
     "grade_id": "cell-d0f3069026d19f9c",
     "locked": true,
     "schema_version": 3,
     "solution": false,
     "task": false
    }
   },
   "source": [
    "## Make predictions (required)\n",
    "\n",
    "Remember you should create a dataframe named `prediction_df` with exactly 217,921 entries plus a header row attempting to predict the likelihood of retention for subscriptions in `test_df`. Your submission will throw an error if you have extra columns (beyond `subscription_id` and `predicted_probaility`) or extra rows.\n",
    "\n",
    "The file should have exactly 2 columns:\n",
    "`subscription_id` (sorted in any order)\n",
    "`predicted_probability` (contains your numeric predicted probabilities between 0 and 1, e.g. from `estimator.predict_proba(X, y)[:, 1]`)\n",
    "\n",
    "The naming convention of the dataframe and columns are critical for our autograding, so please make sure to use the exact naming conventions of `prediction_df` with column names `subscription_id` and `predicted_probability`!"
   ]
  },
  {
   "cell_type": "markdown",
   "metadata": {
    "deletable": false,
    "editable": false,
    "nbgrader": {
     "cell_type": "markdown",
     "checksum": "fe6a9f76bf3afadd8bca14844cc29822",
     "grade": false,
     "grade_id": "cell-6df7c772d801196c",
     "locked": true,
     "schema_version": 3,
     "solution": false,
     "task": false
    }
   },
   "source": [
    "### Example prediction submission:\n",
    "\n",
    "The code below is a very naive prediction method that simply predicts retention using a Dummy Classifier. This is used as just an example showing the submission format required. Please change/alter/delete this code below and create your own improved prediction methods for generating `prediction_df`."
   ]
  },
  {
   "cell_type": "markdown",
   "metadata": {
    "deletable": false,
    "editable": false,
    "nbgrader": {
     "cell_type": "markdown",
     "checksum": "d1dd997e53033d6b60dd735f47bc5ed8",
     "grade": false,
     "grade_id": "cell-985b2d76f8109daf",
     "locked": true,
     "schema_version": 3,
     "solution": false,
     "task": false
    }
   },
   "source": [
    "**PLEASE CHANGE CODE BELOW TO IMPLEMENT YOUR OWN PREDICTIONS**"
   ]
  },
  {
   "cell_type": "code",
   "execution_count": 15,
   "metadata": {},
   "outputs": [],
   "source": [
    "### PLEASE CHANGE THIS CODE TO IMPLEMENT YOUR OWN PREDICTIONS\n",
    "\n",
    "# clf = RandomForestClassifier(n_estimators=133, \n",
    "#                              random_state=42, \n",
    "#                              min_samples_split=10,\n",
    "#                              min_samples_leaf=2,\n",
    "#                              max_features='sqrt',\n",
    "#                              max_depth=20,\n",
    "#                              bootstrap=False)\n",
    "    \n",
    "# clf.fit(c_train_df.drop(['subscription_id', 'observation_dt', 'is_retained', 'specialization_id'], axis=1), c_train_df.is_retained)"
   ]
  },
  {
   "cell_type": "code",
   "execution_count": 16,
   "metadata": {},
   "outputs": [
    {
     "data": {
      "text/html": [
       "<style>#sk-container-id-1 {color: black;background-color: white;}#sk-container-id-1 pre{padding: 0;}#sk-container-id-1 div.sk-toggleable {background-color: white;}#sk-container-id-1 label.sk-toggleable__label {cursor: pointer;display: block;width: 100%;margin-bottom: 0;padding: 0.3em;box-sizing: border-box;text-align: center;}#sk-container-id-1 label.sk-toggleable__label-arrow:before {content: \"▸\";float: left;margin-right: 0.25em;color: #696969;}#sk-container-id-1 label.sk-toggleable__label-arrow:hover:before {color: black;}#sk-container-id-1 div.sk-estimator:hover label.sk-toggleable__label-arrow:before {color: black;}#sk-container-id-1 div.sk-toggleable__content {max-height: 0;max-width: 0;overflow: hidden;text-align: left;background-color: #f0f8ff;}#sk-container-id-1 div.sk-toggleable__content pre {margin: 0.2em;color: black;border-radius: 0.25em;background-color: #f0f8ff;}#sk-container-id-1 input.sk-toggleable__control:checked~div.sk-toggleable__content {max-height: 200px;max-width: 100%;overflow: auto;}#sk-container-id-1 input.sk-toggleable__control:checked~label.sk-toggleable__label-arrow:before {content: \"▾\";}#sk-container-id-1 div.sk-estimator input.sk-toggleable__control:checked~label.sk-toggleable__label {background-color: #d4ebff;}#sk-container-id-1 div.sk-label input.sk-toggleable__control:checked~label.sk-toggleable__label {background-color: #d4ebff;}#sk-container-id-1 input.sk-hidden--visually {border: 0;clip: rect(1px 1px 1px 1px);clip: rect(1px, 1px, 1px, 1px);height: 1px;margin: -1px;overflow: hidden;padding: 0;position: absolute;width: 1px;}#sk-container-id-1 div.sk-estimator {font-family: monospace;background-color: #f0f8ff;border: 1px dotted black;border-radius: 0.25em;box-sizing: border-box;margin-bottom: 0.5em;}#sk-container-id-1 div.sk-estimator:hover {background-color: #d4ebff;}#sk-container-id-1 div.sk-parallel-item::after {content: \"\";width: 100%;border-bottom: 1px solid gray;flex-grow: 1;}#sk-container-id-1 div.sk-label:hover label.sk-toggleable__label {background-color: #d4ebff;}#sk-container-id-1 div.sk-serial::before {content: \"\";position: absolute;border-left: 1px solid gray;box-sizing: border-box;top: 0;bottom: 0;left: 50%;z-index: 0;}#sk-container-id-1 div.sk-serial {display: flex;flex-direction: column;align-items: center;background-color: white;padding-right: 0.2em;padding-left: 0.2em;position: relative;}#sk-container-id-1 div.sk-item {position: relative;z-index: 1;}#sk-container-id-1 div.sk-parallel {display: flex;align-items: stretch;justify-content: center;background-color: white;position: relative;}#sk-container-id-1 div.sk-item::before, #sk-container-id-1 div.sk-parallel-item::before {content: \"\";position: absolute;border-left: 1px solid gray;box-sizing: border-box;top: 0;bottom: 0;left: 50%;z-index: -1;}#sk-container-id-1 div.sk-parallel-item {display: flex;flex-direction: column;z-index: 1;position: relative;background-color: white;}#sk-container-id-1 div.sk-parallel-item:first-child::after {align-self: flex-end;width: 50%;}#sk-container-id-1 div.sk-parallel-item:last-child::after {align-self: flex-start;width: 50%;}#sk-container-id-1 div.sk-parallel-item:only-child::after {width: 0;}#sk-container-id-1 div.sk-dashed-wrapped {border: 1px dashed gray;margin: 0 0.4em 0.5em 0.4em;box-sizing: border-box;padding-bottom: 0.4em;background-color: white;}#sk-container-id-1 div.sk-label label {font-family: monospace;font-weight: bold;display: inline-block;line-height: 1.2em;}#sk-container-id-1 div.sk-label-container {text-align: center;}#sk-container-id-1 div.sk-container {/* jupyter's `normalize.less` sets `[hidden] { display: none; }` but bootstrap.min.css set `[hidden] { display: none !important; }` so we also need the `!important` here to be able to override the default hidden behavior on the sphinx rendered scikit-learn.org. See: https://github.com/scikit-learn/scikit-learn/issues/21755 */display: inline-block !important;position: relative;}#sk-container-id-1 div.sk-text-repr-fallback {display: none;}</style><div id=\"sk-container-id-1\" class=\"sk-top-container\"><div class=\"sk-text-repr-fallback\"><pre>GradientBoostingClassifier(max_depth=10, max_features=&#x27;sqrt&#x27;,\n",
       "                           min_samples_leaf=2, n_estimators=133,\n",
       "                           random_state=42)</pre><b>In a Jupyter environment, please rerun this cell to show the HTML representation or trust the notebook. <br />On GitHub, the HTML representation is unable to render, please try loading this page with nbviewer.org.</b></div><div class=\"sk-container\" hidden><div class=\"sk-item\"><div class=\"sk-estimator sk-toggleable\"><input class=\"sk-toggleable__control sk-hidden--visually\" id=\"sk-estimator-id-1\" type=\"checkbox\" checked><label for=\"sk-estimator-id-1\" class=\"sk-toggleable__label sk-toggleable__label-arrow\">GradientBoostingClassifier</label><div class=\"sk-toggleable__content\"><pre>GradientBoostingClassifier(max_depth=10, max_features=&#x27;sqrt&#x27;,\n",
       "                           min_samples_leaf=2, n_estimators=133,\n",
       "                           random_state=42)</pre></div></div></div></div></div>"
      ],
      "text/plain": [
       "GradientBoostingClassifier(max_depth=10, max_features='sqrt',\n",
       "                           min_samples_leaf=2, n_estimators=133,\n",
       "                           random_state=42)"
      ]
     },
     "execution_count": 16,
     "metadata": {},
     "output_type": "execute_result"
    }
   ],
   "source": [
    "clf = GradientBoostingClassifier(learning_rate=0.1,\n",
    "                                 n_estimators=133,\n",
    "                                 random_state=42,\n",
    "                                 max_depth=10,\n",
    "                                 min_samples_split=2,\n",
    "                                 min_samples_leaf=2,\n",
    "                                 max_features='sqrt')\n",
    "                                 \n",
    "clf.fit(c_train_df.drop(['subscription_id', 'observation_dt', 'is_retained', 'specialization_id'], axis=1), c_train_df.is_retained)"
   ]
  },
  {
   "cell_type": "code",
   "execution_count": 17,
   "metadata": {},
   "outputs": [],
   "source": [
    "### PLEASE CHANGE THIS CODE TO IMPLEMENT YOUR OWN PREDICTIONS\n",
    "\n",
    "# Use our dummy classifier to make predictions on test_df using `predict_proba` method:\n",
    "predicted_probability = clf.predict_proba(c_test_df.drop(['subscription_id', 'observation_dt', 'specialization_id'], axis=1))[:, 1]"
   ]
  },
  {
   "cell_type": "code",
   "execution_count": 18,
   "metadata": {},
   "outputs": [],
   "source": [
    "### PLEASE CHANGE THIS CODE TO IMPLEMENT YOUR OWN PREDICTIONS\n",
    "\n",
    "# Combine predictions with label column into a dataframe\n",
    "prediction_df = pd.DataFrame({'subscription_id': c_test_df[['subscription_id']].values[:, 0],\n",
    "                             'predicted_probability': predicted_probability})"
   ]
  },
  {
   "cell_type": "code",
   "execution_count": 19,
   "metadata": {},
   "outputs": [
    {
     "name": "stdout",
     "output_type": "stream",
     "text": [
      "(217921, 2)\n"
     ]
    },
    {
     "data": {
      "text/html": [
       "<div>\n",
       "<style scoped>\n",
       "    .dataframe tbody tr th:only-of-type {\n",
       "        vertical-align: middle;\n",
       "    }\n",
       "\n",
       "    .dataframe tbody tr th {\n",
       "        vertical-align: top;\n",
       "    }\n",
       "\n",
       "    .dataframe thead th {\n",
       "        text-align: right;\n",
       "    }\n",
       "</style>\n",
       "<table border=\"1\" class=\"dataframe\">\n",
       "  <thead>\n",
       "    <tr style=\"text-align: right;\">\n",
       "      <th></th>\n",
       "      <th>subscription_id</th>\n",
       "      <th>predicted_probability</th>\n",
       "    </tr>\n",
       "  </thead>\n",
       "  <tbody>\n",
       "    <tr>\n",
       "      <th>0</th>\n",
       "      <td>-1flsPG4EeuOTBLG4RY78Q</td>\n",
       "      <td>0.602330</td>\n",
       "    </tr>\n",
       "    <tr>\n",
       "      <th>1</th>\n",
       "      <td>-3jgpo3XEeuquA5bylYGqQ</td>\n",
       "      <td>0.779151</td>\n",
       "    </tr>\n",
       "    <tr>\n",
       "      <th>2</th>\n",
       "      <td>-4iSgbBhEeutEwol7kuJnw</td>\n",
       "      <td>0.808111</td>\n",
       "    </tr>\n",
       "    <tr>\n",
       "      <th>3</th>\n",
       "      <td>-D1ayv64Eeuw4w5IkZJKbw</td>\n",
       "      <td>0.351715</td>\n",
       "    </tr>\n",
       "    <tr>\n",
       "      <th>4</th>\n",
       "      <td>-DJEc-L5Eeub2BLESLBCkw</td>\n",
       "      <td>0.649459</td>\n",
       "    </tr>\n",
       "    <tr>\n",
       "      <th>5</th>\n",
       "      <td>-EbzSDdgEeyiog5l139adw</td>\n",
       "      <td>0.614075</td>\n",
       "    </tr>\n",
       "    <tr>\n",
       "      <th>6</th>\n",
       "      <td>-GVVgmMxEeuQZgoplpe76w</td>\n",
       "      <td>0.727201</td>\n",
       "    </tr>\n",
       "    <tr>\n",
       "      <th>7</th>\n",
       "      <td>-H4Bil5DEeyGdgqSaUkc7Q</td>\n",
       "      <td>0.049049</td>\n",
       "    </tr>\n",
       "    <tr>\n",
       "      <th>8</th>\n",
       "      <td>-O-hHcevEeuPIA4yld1PaQ</td>\n",
       "      <td>0.361149</td>\n",
       "    </tr>\n",
       "    <tr>\n",
       "      <th>9</th>\n",
       "      <td>-VFHd3C_EeuyDgqvLkrnfQ</td>\n",
       "      <td>0.827855</td>\n",
       "    </tr>\n",
       "  </tbody>\n",
       "</table>\n",
       "</div>"
      ],
      "text/plain": [
       "          subscription_id  predicted_probability\n",
       "0  -1flsPG4EeuOTBLG4RY78Q               0.602330\n",
       "1  -3jgpo3XEeuquA5bylYGqQ               0.779151\n",
       "2  -4iSgbBhEeutEwol7kuJnw               0.808111\n",
       "3  -D1ayv64Eeuw4w5IkZJKbw               0.351715\n",
       "4  -DJEc-L5Eeub2BLESLBCkw               0.649459\n",
       "5  -EbzSDdgEeyiog5l139adw               0.614075\n",
       "6  -GVVgmMxEeuQZgoplpe76w               0.727201\n",
       "7  -H4Bil5DEeyGdgqSaUkc7Q               0.049049\n",
       "8  -O-hHcevEeuPIA4yld1PaQ               0.361149\n",
       "9  -VFHd3C_EeuyDgqvLkrnfQ               0.827855"
      ]
     },
     "execution_count": 19,
     "metadata": {},
     "output_type": "execute_result"
    }
   ],
   "source": [
    "### PLEASE CHANGE THIS CODE TO IMPLEMENT YOUR OWN PREDICTIONS\n",
    "\n",
    "# View our 'prediction_df' dataframe as required for submission.\n",
    "# Ensure it should contain 217,921 rows and 2 columns 'subscription_id' and 'predicted_probaility'\n",
    "print(prediction_df.shape)\n",
    "prediction_df.head(10)"
   ]
  },
  {
   "cell_type": "markdown",
   "metadata": {
    "deletable": false,
    "editable": false,
    "nbgrader": {
     "cell_type": "markdown",
     "checksum": "68d9145a0961e48fd1a64f9c67cfeb9c",
     "grade": false,
     "grade_id": "cell-68914e4d1c997ce3",
     "locked": true,
     "schema_version": 3,
     "solution": false,
     "task": false
    }
   },
   "source": [
    "**PLEASE CHANGE CODE ABOVE TO IMPLEMENT YOUR OWN PREDICTIONS**"
   ]
  },
  {
   "cell_type": "markdown",
   "metadata": {
    "deletable": false,
    "editable": false,
    "nbgrader": {
     "cell_type": "markdown",
     "checksum": "332a59fc1886c66fff06c82aa4886d3a",
     "grade": false,
     "grade_id": "cell-6ddc9c7036a31ac6",
     "locked": true,
     "schema_version": 3,
     "solution": false,
     "task": false
    }
   },
   "source": [
    "## Final Tests - **IMPORTANT** - the cells below must be run prior to submission\n",
    "\n",
    "Below are some tests to ensure your submission is in the correct format for grading. Please run the tests below an ensure no assertion errors are thrown."
   ]
  },
  {
   "cell_type": "code",
   "execution_count": 20,
   "metadata": {
    "deletable": false,
    "editable": false,
    "nbgrader": {
     "cell_type": "code",
     "checksum": "ff05a71c96b93240d469fce58ce8fbc3",
     "grade": true,
     "grade_id": "cell-2e6fe1054cecfac7",
     "locked": true,
     "points": 1,
     "schema_version": 3,
     "solution": false,
     "task": false
    }
   },
   "outputs": [],
   "source": [
    "# FINAL TEST CELLS - please make sure all of your code is above these test cells\n",
    "\n",
    "# Writing to csv for autograding purposes\n",
    "prediction_df.to_csv(\"prediction_submission.csv\", index=False)\n",
    "submission = pd.read_csv(\"prediction_submission.csv\")\n",
    "\n",
    "assert isinstance(submission, pd.DataFrame), 'You should have a dataframe named prediction_df.'"
   ]
  },
  {
   "cell_type": "code",
   "execution_count": 21,
   "metadata": {
    "deletable": false,
    "editable": false,
    "nbgrader": {
     "cell_type": "code",
     "checksum": "fe2f5aef7ad95ff49cfb0740111efc74",
     "grade": true,
     "grade_id": "cell-1890b9f3ad7dbf69",
     "locked": true,
     "points": 1,
     "schema_version": 3,
     "solution": false,
     "task": false
    }
   },
   "outputs": [],
   "source": [
    "# FINAL TEST CELLS - please make sure all of your code is above these test cells\n",
    "\n",
    "assert submission.shape[0] == 217921, 'The dataframe prediction_df should have 217921 rows.'"
   ]
  },
  {
   "cell_type": "code",
   "execution_count": 22,
   "metadata": {
    "deletable": false,
    "editable": false,
    "nbgrader": {
     "cell_type": "code",
     "checksum": "b3d0f1490eedd196d6d0fb70c3f751e4",
     "grade": true,
     "grade_id": "cell-fbdbf9aed9f70da1",
     "locked": true,
     "points": 1,
     "schema_version": 3,
     "solution": false,
     "task": false
    }
   },
   "outputs": [],
   "source": [
    "# FINAL TEST CELLS - please make sure all of your code is above these test cells\n",
    "\n",
    "assert submission.shape[1] == 2, 'The dataframe prediction_df should have 2 columns.'"
   ]
  },
  {
   "cell_type": "code",
   "execution_count": 23,
   "metadata": {
    "deletable": false,
    "editable": false,
    "nbgrader": {
     "cell_type": "code",
     "checksum": "c4c1dc6f465615cb24159f85b3d46ef1",
     "grade": true,
     "grade_id": "cell-957bf7eff73aa91d",
     "locked": true,
     "points": 1,
     "schema_version": 3,
     "solution": false,
     "task": false
    }
   },
   "outputs": [],
   "source": [
    "# FINAL TEST CELLS - please make sure all of your code is above these test cells\n",
    "\n",
    "## This cell calculates the auc score and is hidden. Submit Assignment to see AUC score.\n"
   ]
  },
  {
   "cell_type": "markdown",
   "metadata": {
    "deletable": false,
    "editable": false,
    "nbgrader": {
     "cell_type": "markdown",
     "checksum": "a26e871efdc73025547000ab61191afe",
     "grade": false,
     "grade_id": "cell-3bfd585b82e8e11a",
     "locked": true,
     "schema_version": 3,
     "solution": false,
     "task": false
    }
   },
   "source": [
    "## SUBMIT YOUR WORK!\n",
    "\n",
    "Once we are happy with our `prediction_df` we can now submit for autograding! Submit by using the blue **Submit Assignment** at the top of your notebook. Don't worry if your initial submission isn't perfect as you have multiple submission attempts and will obtain some feedback after each submission!"
   ]
  }
 ],
 "metadata": {
  "kernelspec": {
   "display_name": "tf",
   "language": "python",
   "name": "python3"
  },
  "language_info": {
   "codemirror_mode": {
    "name": "ipython",
    "version": 3
   },
   "file_extension": ".py",
   "mimetype": "text/x-python",
   "name": "python",
   "nbconvert_exporter": "python",
   "pygments_lexer": "ipython3",
   "version": "3.10.5"
  },
  "vscode": {
   "interpreter": {
    "hash": "52ee2977380704a66854748a73250e0671a9318bd5b3fd45a3df9f851ae61629"
   }
  }
 },
 "nbformat": 4,
 "nbformat_minor": 4
}
